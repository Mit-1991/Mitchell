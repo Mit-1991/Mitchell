{
  "metadata": {
    "kernelspec": {
      "name": "python",
      "display_name": "Python (Pyodide)",
      "language": "python"
    },
    "language_info": {
      "codemirror_mode": {
        "name": "python",
        "version": 3
      },
      "file_extension": ".py",
      "mimetype": "text/x-python",
      "name": "python",
      "nbconvert_exporter": "python",
      "pygments_lexer": "ipython3",
      "version": "3.8"
    }
  },
  "nbformat_minor": 4,
  "nbformat": 4,
  "cells": [
    {
      "cell_type": "code",
      "source": "# Biblioteca Ciencia de Datos.\n\nprint('la biblioteca de ciencia de datos son:')\n\n1. # Numpy\n2. ## Pandas\n3. ### Seaborn\n4.#### Matplotlib\n5.##### Tensorflow",
      "metadata": {
        "trusted": true
      },
      "outputs": [
        {
          "name": "stdout",
          "text": "la biblioteca de ciencia de datos son:\n",
          "output_type": "stream"
        },
        {
          "execution_count": 23,
          "output_type": "execute_result",
          "data": {
            "text/plain": "5.0"
          },
          "metadata": {}
        }
      ],
      "execution_count": 25
    },
    {
      "cell_type": "markdown",
      "source": "## Tabla de herramientas\n| lenguaje de programacion | Base de datos | \n| -------------| ------ |\n| Python | SQL |\n| R | No SQL |\n| Julia | Spark SQL |\n",
      "metadata": {}
    },
    {
      "cell_type": "markdown",
      "source": "",
      "metadata": {}
    },
    {
      "cell_type": "markdown",
      "source": "### Expresion Arimetica\n\n1 2 3 4 5",
      "metadata": {}
    },
    {
      "cell_type": "code",
      "source": "# Multiplica y Sumar Numero.\n\n(15+8)*9",
      "metadata": {
        "trusted": true
      },
      "outputs": [
        {
          "execution_count": 32,
          "output_type": "execute_result",
          "data": {
            "text/plain": "207"
          },
          "metadata": {}
        }
      ],
      "execution_count": 34
    },
    {
      "cell_type": "code",
      "source": "# Convertir Horas en minutos\n# 200 Minutos\n# 1 Hora equivale a 60 Minutos\n# Dividiremos los 200 Minutos en 60 Minutos para saber cuantas horas son:\n\n200/60\n\n\n",
      "metadata": {
        "trusted": true
      },
      "outputs": [
        {
          "execution_count": 42,
          "output_type": "execute_result",
          "data": {
            "text/plain": "3.3333333333333335"
          },
          "metadata": {}
        }
      ],
      "execution_count": 44
    },
    {
      "cell_type": "code",
      "source": "# Objetivos:\n# Escribiremos en negrita\n\n__Python__\n** R**\n__SQL__",
      "metadata": {
        "trusted": true
      },
      "outputs": [],
      "execution_count": null
    },
    {
      "cell_type": "markdown",
      "source": "# Objetivos:\n# Escribiremos en negrita\n\n__Python__\n**R**\n__SQL__",
      "metadata": {}
    },
    {
      "cell_type": "markdown",
      "source": "## Autor\n# Mitchell Rojas P",
      "metadata": {}
    },
    {
      "cell_type": "code",
      "source": "",
      "metadata": {
        "trusted": true
      },
      "outputs": [],
      "execution_count": null
    }
  ]
}